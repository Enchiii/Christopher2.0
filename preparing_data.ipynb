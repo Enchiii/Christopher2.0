{
 "cells": [
  {
   "cell_type": "code",
   "execution_count": 1,
   "metadata": {},
   "outputs": [],
   "source": [
    "import pandas as pd"
   ]
  },
  {
   "cell_type": "code",
   "execution_count": 2,
   "metadata": {},
   "outputs": [
    {
     "data": {
      "text/html": [
       "<div>\n",
       "<style scoped>\n",
       "    .dataframe tbody tr th:only-of-type {\n",
       "        vertical-align: middle;\n",
       "    }\n",
       "\n",
       "    .dataframe tbody tr th {\n",
       "        vertical-align: top;\n",
       "    }\n",
       "\n",
       "    .dataframe thead th {\n",
       "        text-align: right;\n",
       "    }\n",
       "</style>\n",
       "<table border=\"1\" class=\"dataframe\">\n",
       "  <thead>\n",
       "    <tr style=\"text-align: right;\">\n",
       "      <th></th>\n",
       "      <th>word</th>\n",
       "    </tr>\n",
       "  </thead>\n",
       "  <tbody>\n",
       "    <tr>\n",
       "      <th>0</th>\n",
       "      <td>Abacja, Abacją, Abację, Abacji, Abacjo</td>\n",
       "    </tr>\n",
       "    <tr>\n",
       "      <th>1</th>\n",
       "      <td>abaka, abace, abak, abakach, abakami, abaką, a...</td>\n",
       "    </tr>\n",
       "    <tr>\n",
       "      <th>2</th>\n",
       "      <td>abakan, abakanach, abakanami, abakanem, abakan...</td>\n",
       "    </tr>\n",
       "    <tr>\n",
       "      <th>3</th>\n",
       "      <td>Abakan, Abakanem, Abakanie, Abakanowi, Abakanu</td>\n",
       "    </tr>\n",
       "    <tr>\n",
       "      <th>4</th>\n",
       "      <td>abakanka, abakance, abakanek, abakankach, abak...</td>\n",
       "    </tr>\n",
       "  </tbody>\n",
       "</table>\n",
       "</div>"
      ],
      "text/plain": [
       "                                                word\n",
       "0             Abacja, Abacją, Abację, Abacji, Abacjo\n",
       "1  abaka, abace, abak, abakach, abakami, abaką, a...\n",
       "2  abakan, abakanach, abakanami, abakanem, abakan...\n",
       "3     Abakan, Abakanem, Abakanie, Abakanowi, Abakanu\n",
       "4  abakanka, abakance, abakanek, abakankach, abak..."
      ]
     },
     "execution_count": 2,
     "metadata": {},
     "output_type": "execute_result"
    }
   ],
   "source": [
    "words_df = pd.read_csv('odm.txt', names=['word'], sep='\\r')\n",
    "words_df.head()"
   ]
  },
  {
   "cell_type": "code",
   "execution_count": 3,
   "metadata": {},
   "outputs": [],
   "source": [
    "exploded_df = words_df['word'].str.split(',').explode()\n",
    "exploded_df.dropna(inplace=True)"
   ]
  },
  {
   "cell_type": "code",
   "execution_count": 4,
   "metadata": {},
   "outputs": [
    {
     "data": {
      "text/plain": [
       "(0     Abacja\n",
       " 0     Abacją\n",
       " 0     Abację\n",
       " 0     Abacji\n",
       " 0     Abacjo\n",
       " Name: word, dtype: object,\n",
       " (4674861,))"
      ]
     },
     "execution_count": 4,
     "metadata": {},
     "output_type": "execute_result"
    }
   ],
   "source": [
    "exploded_df.head(), exploded_df.shape"
   ]
  },
  {
   "cell_type": "code",
   "execution_count": 5,
   "metadata": {},
   "outputs": [],
   "source": [
    "def filtr_data(text):\n",
    "    special_chars = '!@#$%^&*()_-+=,<.>?/|;:'\n",
    "    if any(chr.isdigit() for chr in text) or any(chr in special_chars for chr in text):\n",
    "        return 'nan'\n",
    "    \n",
    "    strange = 'ąćęłńóśźż'.upper()\n",
    "    ascii_replcacement = 'acelnoszz'.upper()\n",
    "    translator = str.maketrans(strange, ascii_replcacement)\n",
    "    \n",
    "    return text.replace(' ', '').upper().translate(translator)"
   ]
  },
  {
   "cell_type": "code",
   "execution_count": 6,
   "metadata": {},
   "outputs": [
    {
     "data": {
      "text/plain": [
       "0    ABACJA\n",
       "0    ABACJA\n",
       "0    ABACJE\n",
       "0    ABACJI\n",
       "0    ABACJO\n",
       "Name: word, dtype: object"
      ]
     },
     "execution_count": 6,
     "metadata": {},
     "output_type": "execute_result"
    }
   ],
   "source": [
    "filtred_df = exploded_df.apply(lambda text: filtr_data(text=text))\n",
    "filtred_df.dropna(inplace=True)\n",
    "filtred_df.head()"
   ]
  },
  {
   "cell_type": "code",
   "execution_count": 7,
   "metadata": {},
   "outputs": [],
   "source": [
    "filtred_df.drop_duplicates(inplace=True)"
   ]
  },
  {
   "cell_type": "code",
   "execution_count": 8,
   "metadata": {},
   "outputs": [
    {
     "data": {
      "text/plain": [
       "(4132614,)"
      ]
     },
     "execution_count": 8,
     "metadata": {},
     "output_type": "execute_result"
    }
   ],
   "source": [
    "filtred_df.shape"
   ]
  },
  {
   "cell_type": "code",
   "execution_count": 9,
   "metadata": {},
   "outputs": [
    {
     "data": {
      "text/plain": [
       "(4129524,)"
      ]
     },
     "execution_count": 9,
     "metadata": {},
     "output_type": "execute_result"
    }
   ],
   "source": [
    "words_df = filtred_df[filtred_df.str.len() > 3]\n",
    "words_df.shape"
   ]
  },
  {
   "cell_type": "code",
   "execution_count": 10,
   "metadata": {},
   "outputs": [],
   "source": [
    "words_df.to_csv('polish_words', index=False)"
   ]
  },
  {
   "cell_type": "code",
   "execution_count": null,
   "metadata": {},
   "outputs": [],
   "source": []
  }
 ],
 "metadata": {
  "kernelspec": {
   "display_name": "mlEnv",
   "language": "python",
   "name": "python3"
  },
  "language_info": {
   "codemirror_mode": {
    "name": "ipython",
    "version": 3
   },
   "file_extension": ".py",
   "mimetype": "text/x-python",
   "name": "python",
   "nbconvert_exporter": "python",
   "pygments_lexer": "ipython3",
   "version": "0.0.0"
  }
 },
 "nbformat": 4,
 "nbformat_minor": 2
}
